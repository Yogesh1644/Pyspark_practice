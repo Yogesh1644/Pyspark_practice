{
 "cells": [
  {
   "cell_type": "code",
   "execution_count": 1,
   "id": "a4174887-9152-4608-b7b3-610a68dd9066",
   "metadata": {},
   "outputs": [],
   "source": [
    "from pyspark.sql import SparkSession"
   ]
  },
  {
   "cell_type": "code",
   "execution_count": 2,
   "id": "5a7ea93a-30e1-41a7-8003-a08116d48b16",
   "metadata": {},
   "outputs": [],
   "source": [
    "from pyspark.sql.functions import regexp_replace, col"
   ]
  },
  {
   "cell_type": "code",
   "execution_count": 3,
   "id": "4e1e6854-1cce-48da-94f7-e76129adfa40",
   "metadata": {},
   "outputs": [],
   "source": [
    "spark=SparkSession.builder.appName('ETL PROCESS').getOrCreate()"
   ]
  },
  {
   "cell_type": "code",
   "execution_count": 4,
   "id": "02629b14-1d78-4c02-b576-59ab7e014c24",
   "metadata": {},
   "outputs": [],
   "source": [
    "df=spark.read.csv('original.csv',inferSchema=True,header=True)"
   ]
  },
  {
   "cell_type": "code",
   "execution_count": 5,
   "id": "986e33b1-91ff-4f46-8c47-67eaf69ec07e",
   "metadata": {},
   "outputs": [
    {
     "name": "stdout",
     "output_type": "stream",
     "text": [
      "+---+----------+----------+------+-------------+--------------------+---------+----------+-----------+\n",
      "| id|first_name| last_name|gender|         City|            JobTitle|   Salary|  Latitude|  Longitude|\n",
      "+---+----------+----------+------+-------------+--------------------+---------+----------+-----------+\n",
      "|  1|   Melinde| Shilburne|Female|    Nowa Ruda| Assistant Professor|$57438.18|50.5774075| 16.4967184|\n",
      "|  2|  Kimberly|Von Welden|Female|       Bulgan|       Programmer II|$62846.60|48.8231572|103.5218199|\n",
      "|  3|    Alvera|  Di Boldi|Female|         NULL|                NULL|$57576.52|39.9947462|116.3397725|\n",
      "|  4|   Shannon| O'Griffin|  Male|Divnomorskoye|Budget/Accounting...|$61489.23|44.5047212| 38.1300171|\n",
      "|  5|  Sherwood|   Macieja|  Male|    Mytishchi|            VP Sales|$63863.09|      NULL| 37.6489954|\n",
      "+---+----------+----------+------+-------------+--------------------+---------+----------+-----------+\n",
      "only showing top 5 rows\n",
      "\n"
     ]
    }
   ],
   "source": [
    "df.show(5)"
   ]
  },
  {
   "cell_type": "code",
   "execution_count": 6,
   "id": "e19c78fb-43af-41b5-9f12-5fc307d1e53b",
   "metadata": {},
   "outputs": [
    {
     "name": "stdout",
     "output_type": "stream",
     "text": [
      "+----------+-------------+\n",
      "|first_name|         City|\n",
      "+----------+-------------+\n",
      "|   Melinde|    Nowa Ruda|\n",
      "|  Kimberly|       Bulgan|\n",
      "|    Alvera|         NULL|\n",
      "|   Shannon|Divnomorskoye|\n",
      "|  Sherwood|    Mytishchi|\n",
      "+----------+-------------+\n",
      "only showing top 5 rows\n",
      "\n"
     ]
    }
   ],
   "source": [
    "df.select('first_name','City').show(5)"
   ]
  },
  {
   "cell_type": "code",
   "execution_count": 7,
   "id": "7918394d-4106-4269-8273-71c0ca7acf3c",
   "metadata": {},
   "outputs": [
    {
     "name": "stdout",
     "output_type": "stream",
     "text": [
      "+---+----------+----------+------+------+-------------+---------+----------+-----------+\n",
      "| id|first_name| last_name|gender|  City|     JobTitle|   Salary|  Latitude|  Longitude|\n",
      "+---+----------+----------+------+------+-------------+---------+----------+-----------+\n",
      "|  2|  Kimberly|Von Welden|Female|Bulgan|Programmer II|$62846.60|48.8231572|103.5218199|\n",
      "+---+----------+----------+------+------+-------------+---------+----------+-----------+\n",
      "\n"
     ]
    }
   ],
   "source": [
    "df.filter(df['City']=='Bulgan').show()"
   ]
  },
  {
   "cell_type": "code",
   "execution_count": 8,
   "id": "a40b02e1-c28e-4278-bb44-7f297bb171fb",
   "metadata": {},
   "outputs": [
    {
     "data": {
      "text/plain": [
       "StructType([StructField('id', IntegerType(), True), StructField('first_name', StringType(), True), StructField('last_name', StringType(), True), StructField('gender', StringType(), True), StructField('City', StringType(), True), StructField('JobTitle', StringType(), True), StructField('Salary', StringType(), True), StructField('Latitude', DoubleType(), True), StructField('Longitude', DoubleType(), True)])"
      ]
     },
     "execution_count": 8,
     "metadata": {},
     "output_type": "execute_result"
    }
   ],
   "source": [
    "df.schema"
   ]
  },
  {
   "cell_type": "code",
   "execution_count": 10,
   "id": "61b0b6ce-32f0-41e0-8e8f-b9719aee73ba",
   "metadata": {},
   "outputs": [],
   "source": [
    "df1=df.withColumn('Salary',df['Salary'].cast('float'))"
   ]
  },
  {
   "cell_type": "code",
   "execution_count": 11,
   "id": "651b1af6-d4f2-4ceb-b3e2-b129403a10ef",
   "metadata": {},
   "outputs": [
    {
     "name": "stdout",
     "output_type": "stream",
     "text": [
      "+---+----------+----------+------+-------------+--------------------+------+----------+-----------+\n",
      "| id|first_name| last_name|gender|         City|            JobTitle|Salary|  Latitude|  Longitude|\n",
      "+---+----------+----------+------+-------------+--------------------+------+----------+-----------+\n",
      "|  1|   Melinde| Shilburne|Female|    Nowa Ruda| Assistant Professor|  NULL|50.5774075| 16.4967184|\n",
      "|  2|  Kimberly|Von Welden|Female|       Bulgan|       Programmer II|  NULL|48.8231572|103.5218199|\n",
      "|  3|    Alvera|  Di Boldi|Female|         NULL|                NULL|  NULL|39.9947462|116.3397725|\n",
      "|  4|   Shannon| O'Griffin|  Male|Divnomorskoye|Budget/Accounting...|  NULL|44.5047212| 38.1300171|\n",
      "|  5|  Sherwood|   Macieja|  Male|    Mytishchi|            VP Sales|  NULL|      NULL| 37.6489954|\n",
      "+---+----------+----------+------+-------------+--------------------+------+----------+-----------+\n",
      "only showing top 5 rows\n",
      "\n"
     ]
    }
   ],
   "source": [
    "df1.show(5)"
   ]
  },
  {
   "cell_type": "code",
   "execution_count": 12,
   "id": "99276768-a54c-4ccb-8f4c-2c19bbe4e684",
   "metadata": {},
   "outputs": [
    {
     "name": "stderr",
     "output_type": "stream",
     "text": [
      "<>:1: SyntaxWarning: invalid escape sequence '\\$'\n",
      "<>:1: SyntaxWarning: invalid escape sequence '\\$'\n",
      "C:\\Users\\hp\\AppData\\Local\\Temp\\ipykernel_6716\\3022167851.py:1: SyntaxWarning: invalid escape sequence '\\$'\n",
      "  df=df.withColumn('Salary',regexp_replace(col('Salary'),'\\$','').cast('float'))\n"
     ]
    }
   ],
   "source": [
    "df=df.withColumn('Salary',regexp_replace(col('Salary'),'\\$','').cast('float'))"
   ]
  },
  {
   "cell_type": "code",
   "execution_count": 13,
   "id": "fc32292e-c043-4896-9076-70bb47897a9c",
   "metadata": {},
   "outputs": [
    {
     "name": "stdout",
     "output_type": "stream",
     "text": [
      "+---+----------+----------+------+-------------+--------------------+--------+----------+-----------+\n",
      "| id|first_name| last_name|gender|         City|            JobTitle|  Salary|  Latitude|  Longitude|\n",
      "+---+----------+----------+------+-------------+--------------------+--------+----------+-----------+\n",
      "|  1|   Melinde| Shilburne|Female|    Nowa Ruda| Assistant Professor|57438.18|50.5774075| 16.4967184|\n",
      "|  2|  Kimberly|Von Welden|Female|       Bulgan|       Programmer II| 62846.6|48.8231572|103.5218199|\n",
      "|  3|    Alvera|  Di Boldi|Female|         NULL|                NULL|57576.52|39.9947462|116.3397725|\n",
      "|  4|   Shannon| O'Griffin|  Male|Divnomorskoye|Budget/Accounting...|61489.23|44.5047212| 38.1300171|\n",
      "|  5|  Sherwood|   Macieja|  Male|    Mytishchi|            VP Sales|63863.09|      NULL| 37.6489954|\n",
      "+---+----------+----------+------+-------------+--------------------+--------+----------+-----------+\n",
      "only showing top 5 rows\n",
      "\n"
     ]
    }
   ],
   "source": [
    "df.show(5)"
   ]
  },
  {
   "cell_type": "code",
   "execution_count": 14,
   "id": "a263540a-b91b-4e21-ab37-477148dba189",
   "metadata": {},
   "outputs": [
    {
     "data": {
      "text/plain": [
       "StructType([StructField('id', IntegerType(), True), StructField('first_name', StringType(), True), StructField('last_name', StringType(), True), StructField('gender', StringType(), True), StructField('City', StringType(), True), StructField('JobTitle', StringType(), True), StructField('Salary', FloatType(), True), StructField('Latitude', DoubleType(), True), StructField('Longitude', DoubleType(), True)])"
      ]
     },
     "execution_count": 14,
     "metadata": {},
     "output_type": "execute_result"
    }
   ],
   "source": [
    "df.schema"
   ]
  },
  {
   "cell_type": "code",
   "execution_count": 19,
   "id": "11e1f69e-37a6-401c-bc30-97ea7be784f7",
   "metadata": {},
   "outputs": [
    {
     "name": "stdout",
     "output_type": "stream",
     "text": [
      "+---+----------+----------+------+-------------+--------------------+--------+----------+-----------+\n",
      "| id|first_name| last_name|gender|         City|            JobTitle|  Salary|  Latitude|  Longitude|\n",
      "+---+----------+----------+------+-------------+--------------------+--------+----------+-----------+\n",
      "|  2|  Kimberly|Von Welden|Female|       Bulgan|       Programmer II| 62846.6|48.8231572|103.5218199|\n",
      "|  4|   Shannon| O'Griffin|  Male|Divnomorskoye|Budget/Accounting...|61489.23|44.5047212| 38.1300171|\n",
      "|  5|  Sherwood|   Macieja|  Male|    Mytishchi|            VP Sales|63863.09|      NULL| 37.6489954|\n",
      "|  9|      Roth|O'Cannavan|  Male|       Heitan|VP Product Manage...| 73697.1| 32.027934| 106.657113|\n",
      "| 10|      Bran|   Trahear|  Male|     Arbeláez|Mechanical System...|68098.42|  4.272793| -74.416014|\n",
      "+---+----------+----------+------+-------------+--------------------+--------+----------+-----------+\n",
      "only showing top 5 rows\n",
      "\n"
     ]
    }
   ],
   "source": [
    "df.filter(df['Salary']>60000).show(5)"
   ]
  },
  {
   "cell_type": "code",
   "execution_count": 16,
   "id": "db9f2c44-9f15-4af9-80ad-7cccba7c1e97",
   "metadata": {},
   "outputs": [
    {
     "name": "stdout",
     "output_type": "stream",
     "text": [
      "+---+----------+----------+------+-------------+--------------------+--------+----------+-----------+-----------------+\n",
      "| id|first_name| last_name|gender|         City|            JobTitle|  Salary|  Latitude|  Longitude|         tax_rate|\n",
      "+---+----------+----------+------+-------------+--------------------+--------+----------+-----------+-----------------+\n",
      "|  1|   Melinde| Shilburne|Female|    Nowa Ruda| Assistant Professor|57438.18|50.5774075| 16.4967184|5743.817968750001|\n",
      "|  2|  Kimberly|Von Welden|Female|       Bulgan|       Programmer II| 62846.6|48.8231572|103.5218199|    6284.66015625|\n",
      "|  3|    Alvera|  Di Boldi|Female|         NULL|                NULL|57576.52|39.9947462|116.3397725|5757.651953125001|\n",
      "|  4|   Shannon| O'Griffin|  Male|Divnomorskoye|Budget/Accounting...|61489.23|44.5047212| 38.1300171|   6148.923046875|\n",
      "|  5|  Sherwood|   Macieja|  Male|    Mytishchi|            VP Sales|63863.09|      NULL| 37.6489954|   6386.308984375|\n",
      "+---+----------+----------+------+-------------+--------------------+--------+----------+-----------+-----------------+\n",
      "only showing top 5 rows\n",
      "\n"
     ]
    }
   ],
   "source": [
    "# How to add new column\n",
    "df.withColumn(\"tax_rate\",df['Salary']*0.1).show(5)\n"
   ]
  },
  {
   "cell_type": "code",
   "execution_count": 17,
   "id": "712ceab1-ca83-4806-a1b5-f6016cf5ffe3",
   "metadata": {},
   "outputs": [
    {
     "name": "stdout",
     "output_type": "stream",
     "text": [
      "+---+----------+----------+------+-------------+--------------------+--------+----------+-----------+\n",
      "| id|first_name| last_name|   SEX|         City|            JobTitle|  Salary|  Latitude|  Longitude|\n",
      "+---+----------+----------+------+-------------+--------------------+--------+----------+-----------+\n",
      "|  1|   Melinde| Shilburne|Female|    Nowa Ruda| Assistant Professor|57438.18|50.5774075| 16.4967184|\n",
      "|  2|  Kimberly|Von Welden|Female|       Bulgan|       Programmer II| 62846.6|48.8231572|103.5218199|\n",
      "|  3|    Alvera|  Di Boldi|Female|         NULL|                NULL|57576.52|39.9947462|116.3397725|\n",
      "|  4|   Shannon| O'Griffin|  Male|Divnomorskoye|Budget/Accounting...|61489.23|44.5047212| 38.1300171|\n",
      "|  5|  Sherwood|   Macieja|  Male|    Mytishchi|            VP Sales|63863.09|      NULL| 37.6489954|\n",
      "+---+----------+----------+------+-------------+--------------------+--------+----------+-----------+\n",
      "only showing top 5 rows\n",
      "\n"
     ]
    }
   ],
   "source": [
    "df.withColumnRenamed('gender','SEX').show(5)"
   ]
  },
  {
   "cell_type": "code",
   "execution_count": 18,
   "id": "166a6782-5877-49a1-9e94-dd532b5aeacd",
   "metadata": {},
   "outputs": [
    {
     "name": "stdout",
     "output_type": "stream",
     "text": [
      "+--------------------+----------------+\n",
      "|            JobTitle|     sum(Salary)|\n",
      "+--------------------+----------------+\n",
      "|Systems Administr...| 264525.69921875|\n",
      "|   Media Manager III|  140905.0703125|\n",
      "|  Recruiting Manager|367391.685546875|\n",
      "|       Geologist III| 133739.40234375|\n",
      "|        Geologist II|  86587.73046875|\n",
      "|Database Administ...|   52018.4609375|\n",
      "|   Financial Analyst| 629598.33203125|\n",
      "|  Analyst Programmer|   374490.921875|\n",
      "|Software Engineer II|    74782.640625|\n",
      "|       Accountant IV| 165464.49609375|\n",
      "|    Product Engineer|  622904.2734375|\n",
      "|Software Test Eng...|356046.427734375|\n",
      "|Safety Technician...| 29421.529296875|\n",
      "|    Junior Executive|  391575.3046875|\n",
      "|Systems Administr...|     154118.4375|\n",
      "|Human Resources A...|162527.759765625|\n",
      "|        VP Marketing|364954.279296875|\n",
      "|  Environmental Tech|356207.224609375|\n",
      "|Mechanical System...|        908308.5|\n",
      "| Assistant Professor|  490887.2421875|\n",
      "+--------------------+----------------+\n",
      "only showing top 20 rows\n",
      "\n"
     ]
    }
   ],
   "source": [
    "df.groupby('JobTitle').agg({'Salary':'sum'}).show()"
   ]
  },
  {
   "cell_type": "code",
   "execution_count": 20,
   "id": "c299be74-c3e6-4ff7-b196-3acdc5dfe450",
   "metadata": {},
   "outputs": [
    {
     "name": "stdout",
     "output_type": "stream",
     "text": [
      "+---+----------+----------+------+---------------+--------------------+--------+----------+-----------+\n",
      "| id|first_name| last_name|gender|           City|            JobTitle|  Salary|  Latitude|  Longitude|\n",
      "+---+----------+----------+------+---------------+--------------------+--------+----------+-----------+\n",
      "|  1|   Melinde| Shilburne|Female|      Nowa Ruda| Assistant Professor|57438.18|50.5774075| 16.4967184|\n",
      "|  2|  Kimberly|Von Welden|Female|         Bulgan|       Programmer II| 62846.6|48.8231572|103.5218199|\n",
      "|  3|    Alvera|  Di Boldi|Female|           NULL|                NULL|57576.52|39.9947462|116.3397725|\n",
      "|  4|   Shannon| O'Griffin|  Male|  Divnomorskoye|Budget/Accounting...|61489.23|44.5047212| 38.1300171|\n",
      "|  5|  Sherwood|   Macieja|  Male|      Mytishchi|            VP Sales|63863.09|      NULL| 37.6489954|\n",
      "|  6|     Maris|      Folk|Female|Kinsealy-Drinan|      Civil Engineer|30101.16|53.4266145| -6.1644997|\n",
      "|  7|     Masha|    Divers|Female|         Dachun|                NULL|25090.87| 24.879416| 118.930111|\n",
      "|  8|   Goddart|     Flear|  Male|      Trélissac|Desktop Support T...|46116.36|45.1905186|  0.7423124|\n",
      "|  9|      Roth|O'Cannavan|  Male|         Heitan|VP Product Manage...| 73697.1| 32.027934| 106.657113|\n",
      "| 10|      Bran|   Trahear|  Male|       Arbeláez|Mechanical System...|68098.42|  4.272793| -74.416014|\n",
      "| 11|    Kylynn|   Lockart|Female|       El Cardo|Nuclear Power Eng...|13604.63|     -5.85|-79.8833329|\n",
      "| 12|       Rey|    Meharg|Female|    Wangqingtuo|Systems Administr...| 73423.7| 39.172378| 116.931607|\n",
      "| 13|      Kerr|    Braden|  Male|      Sułkowice|Compensation Analyst|33432.99|49.8151822| 19.3771749|\n",
      "| 14|    Mickie| Whanstall|  Male|    Springfield|Assistant Media P...|50838.53|42.1014803|-72.5766759|\n",
      "| 15|    Kaspar|     Pally|  Male|         Chrást|  Analyst Programmer|40163.03|49.7923299| 13.4915324|\n",
      "| 16|    Norbie|    Gwyllt|  Male|         Xijiao|              Editor|32492.73|43.4945737|  5.8978018|\n",
      "| 17|    Claude|    Briant|Female|      Mieścisko|Research Assistan...|51862.48|52.7441662| 17.3278637|\n",
      "| 18|     Thain|    Habbon|  Male| Foros do Trapo|     Design Engineer|42135.67| 38.696249| -8.7098337|\n",
      "| 19|  Tiffanie|  Pattison|Female|    Jabungsisir|Senior Financial ...|91925.08|-7.7232567|113.4686802|\n",
      "| 20|    Ettore|  Gerriets|  Male|          Pedra| Staff Accountant IV|73921.33|40.7172049| -8.3625148|\n",
      "+---+----------+----------+------+---------------+--------------------+--------+----------+-----------+\n",
      "only showing top 20 rows\n",
      "\n"
     ]
    }
   ],
   "source": [
    "df.show()"
   ]
  },
  {
   "cell_type": "code",
   "execution_count": null,
   "id": "cd77c375-59f9-44ae-bb14-a8bb0c2a0413",
   "metadata": {},
   "outputs": [],
   "source": []
  }
 ],
 "metadata": {
  "kernelspec": {
   "display_name": "Python 3 (ipykernel)",
   "language": "python",
   "name": "python3"
  },
  "language_info": {
   "codemirror_mode": {
    "name": "ipython",
    "version": 3
   },
   "file_extension": ".py",
   "mimetype": "text/x-python",
   "name": "python",
   "nbconvert_exporter": "python",
   "pygments_lexer": "ipython3",
   "version": "3.12.5"
  }
 },
 "nbformat": 4,
 "nbformat_minor": 5
}
